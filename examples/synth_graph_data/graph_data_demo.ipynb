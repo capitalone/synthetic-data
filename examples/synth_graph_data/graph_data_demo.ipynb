{
 "cells": [
  {
   "cell_type": "markdown",
   "metadata": {},
   "source": [
    "# DataProfiler + Synthetic Graph Data Example"
   ]
  },
  {
   "cell_type": "code",
   "execution_count": 26,
   "metadata": {},
   "outputs": [],
   "source": [
    "import csv\n",
    "import matplotlib.pyplot as plt\n",
    "import numpy as np\n",
    "import scipy.stats as st\n",
    "import pprint\n",
    "\n",
    "from dataprofiler import Data, Profiler\n",
    "\n",
    "from synthetic_data.graph_synthetic_data import GraphDataGenerator"
   ]
  },
  {
   "cell_type": "markdown",
   "metadata": {},
   "source": [
    "The next code block creates a dataset of data following known distributions (for testing purposes). The data file is `demo_graph.csv`. No need to run this unless you want different data."
   ]
  },
  {
   "cell_type": "code",
   "execution_count": 4,
   "metadata": {},
   "outputs": [],
   "source": [
    "'''\n",
    "Create graph CSV (no need to run)\n",
    "'''\n",
    "with open(\"demo_graph.csv\", 'w') as csvfile:\n",
    "    writer = csv.writer(csvfile, delimiter=',', quotechar='\"')\n",
    "    writer.writerow([\"node_id_dst, node_id_src, continuous_weight, categorical_status\".strip(\"\\\"\")])\n",
    "\n",
    "    # distributions for edge attributes\n",
    "    distribution_continuous = st.norm(loc=5, scale=1)\n",
    "    distribution_categorical = st.lognorm(0.954)\n",
    "\n",
    "    for row in range(200):\n",
    "        writer.writerow([np.random.randint(0, 500)] + [np.random.randint(0, 500)] + [distribution_continuous.rvs(size=1)] + [int(distribution_categorical.rvs(size=1)*10)])\n",
    "    "
   ]
  },
  {
   "cell_type": "markdown",
   "metadata": {},
   "source": [
    "Below is the DataProfiler pipeline. Notice that the output profile includes all necessary information about attribute distribution to synthesize data. "
   ]
  },
  {
   "cell_type": "code",
   "execution_count": null,
   "metadata": {},
   "outputs": [],
   "source": [
    "'''\n",
    "DataProfiler Pipeline\n",
    "'''\n",
    "# Load data from CSV\n",
    "data = Data(\"demo_graph.csv\")\n",
    "profile = Profiler(data)\n",
    "report = profile.report()\n",
    "\n",
    "printer = pprint.PrettyPrinter(sort_dicts=False, compact=True)\n",
    "printer.pprint(report)"
   ]
  },
  {
   "cell_type": "markdown",
   "metadata": {},
   "source": [
    "Next, we use the above profile to generate synthetic graph data. The returning graph will have the same number of nodes, approximately the same number of edges (with variance), and statistically similar distributions for graph attributes."
   ]
  },
  {
   "cell_type": "code",
   "execution_count": 29,
   "metadata": {},
   "outputs": [],
   "source": [
    "'''\n",
    "Synthetic Graph Data Pipeline\n",
    "'''\n",
    "generator = GraphDataGenerator(report)\n",
    "graph = generator.synthesize()"
   ]
  },
  {
   "cell_type": "markdown",
   "metadata": {},
   "source": [
    "Below is some plots to test graph structure and the generated data distributions."
   ]
  },
  {
   "cell_type": "code",
   "execution_count": null,
   "metadata": {},
   "outputs": [],
   "source": [
    "print(\"Generated graph # edges:\", graph.number_of_edges())\n",
    "print(\"Generated graph # nodes:\", graph.number_of_nodes())"
   ]
  },
  {
   "cell_type": "code",
   "execution_count": null,
   "metadata": {},
   "outputs": [],
   "source": [
    "''' \n",
    "Plot continuous attribute distributions\n",
    "'''\n",
    "# continuous\n",
    "fig, ax1 = plt.subplots()\n",
    "data = generator.sample_continuous(\"continuous_weight\", 1500)\n",
    "ax1.hist(list(data), bins=100)\n",
    "pts = np.linspace(2, 8)\n",
    "ax2 = ax1.twinx()\n",
    "ax2.set_ylim(0, 0.6)\n",
    "ax2.plot(pts, st.norm(loc=5, scale=1).pdf(pts), color='red')\n",
    "plt.title(\"Sampled generated data (blue) vs. expected probability distribution (red)\")\n",
    "plt.show()\n",
    "\n"
   ]
  },
  {
   "cell_type": "code",
   "execution_count": null,
   "metadata": {},
   "outputs": [],
   "source": [
    "'''Categorical Data Sampling'''\n",
    "# expected\n",
    "categorical_hist = []\n",
    "with open(\"demo_graph.csv\") as csvfile:\n",
    "    csvreader = csv.reader(csvfile)\n",
    "    for row in csvreader:\n",
    "        categorical_hist.append(row[3])\n",
    "categorical_hist = categorical_hist[1:]\n",
    "\n",
    "for index in range(len(categorical_hist)):\n",
    "    categorical_hist[index] = int(categorical_hist[index])\n",
    "expected_hist, bin_edge = np.histogram(categorical_hist, bins='auto')\n",
    "\n",
    "# sample\n",
    "data = []\n",
    "for n in range(0, 2000):\n",
    "    data.append(generator.sample_categorical(\"categorical_status\"))\n",
    "\n",
    "sample_hist, edges = np.histogram(data, bins=bin_edge, density=False)\n",
    "\n",
    "sample_hist = sample_hist/np.max(sample_hist)\n",
    "expected_hist = expected_hist/np.max(expected_hist)\n",
    "\n",
    "num_bin = 28\n",
    "bin_lims = np.linspace(0,1,num_bin+1)\n",
    "bin_centers = 0.5*(bin_lims[:-1]+bin_lims[1:])\n",
    "bin_widths = bin_lims[1:]-bin_lims[:-1]\n",
    "\n",
    "fig, (ax1,ax2) = plt.subplots(nrows = 1, ncols = 2)\n",
    "ax1.bar(bin_centers, sample_hist, width = bin_widths, align = 'center')\n",
    "ax2.bar(bin_centers, expected_hist, width = bin_widths, align = 'center', alpha = 0.5)\n",
    "ax1.set_title('amplitude-normalized\\nexpected distribution')\n",
    "ax2.set_title('amplitude-normalized\\nsampled distribution')\n",
    "plt.show()"
   ]
  },
  {
   "cell_type": "markdown",
   "metadata": {},
   "source": [
    "# Conclusion\n",
    "\n",
    "We have shown how to use the DataProfiler and the synthetic graph data generator together in order to create a synthetic graph from a synthetic data. We notice that the generated graph has a similar structure and statistically similar attribute distributions to the input graph data."
   ]
  }
 ],
 "metadata": {
  "kernelspec": {
   "display_name": "Python 3",
   "language": "python",
   "name": "python3"
  },
  "language_info": {
   "codemirror_mode": {
    "name": "ipython",
    "version": 3
   },
   "file_extension": ".py",
   "mimetype": "text/x-python",
   "name": "python",
   "nbconvert_exporter": "python",
   "pygments_lexer": "ipython3",
   "version": "3.8.13"
  },
  "orig_nbformat": 4
 },
 "nbformat": 4,
 "nbformat_minor": 2
}
