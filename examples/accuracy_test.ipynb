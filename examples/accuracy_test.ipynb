{
 "cells": [
  {
   "cell_type": "markdown",
   "metadata": {},
   "source": [
    "##### Script to Test Synthetic Data Generation Accuracy by using RandomForestClassifier predictions as Ground Truth"
   ]
  },
  {
   "cell_type": "code",
   "execution_count": 6,
   "metadata": {},
   "outputs": [],
   "source": [
    "import dataprofiler as dp\n",
    "import numpy as np\n",
    "import pandas as pd\n",
    "from sklearn import datasets\n",
    "from sklearn.model_selection import train_test_split\n",
    "from sklearn.metrics import roc_auc_score\n",
    "from sklearn.ensemble import RandomForestClassifier\n",
    "from synthetic_data.synthetic_data import make_data_from_report\n",
    "from dataprofiler import Data\n",
    "from IPython.utils import io\n"
   ]
  },
  {
   "cell_type": "code",
   "execution_count": 7,
   "metadata": {},
   "outputs": [],
   "source": [
    "# Load Iris dataset\n",
    "iris = datasets.load_iris(as_frame=True).frame\n",
    "\n",
    "# Load Wisconsin Breast Cancer dataset\n",
    "breast_cancer = datasets.load_breast_cancer(as_frame=True).frame\n",
    "# Need to standardize otherwise correlation matrix calculated is \"ill conditioned\" (raises Errors)\n",
    "for column in breast_cancer.columns[:-1]:\n",
    "    breast_cancer[column] = (breast_cancer[column] - breast_cancer[column].mean()) / breast_cancer[column].std()"
   ]
  },
  {
   "cell_type": "code",
   "execution_count": 8,
   "metadata": {},
   "outputs": [
    {
     "name": "stdout",
     "output_type": "stream",
     "text": [
      "INFO:DataProfiler.profilers.profile_builder: Finding the Null values in the columns... \n",
      "INFO:DataProfiler.profilers.profile_builder: Calculating the statistics... \n",
      "INFO:DataProfiler.profilers.profile_builder: Finding the Null values in the columns... \n",
      "INFO:DataProfiler.profilers.profile_builder: Calculating the statistics... \n"
     ]
    }
   ],
   "source": [
    "# Generate report\n",
    "profile_options = dp.ProfilerOptions()\n",
    "profile_options.set({\n",
    "    \"data_labeler.is_enabled\": False,\n",
    "    \"correlation.is_enabled\": True,\n",
    "    \"structured_options.multiprocess.is_enabled\": False\n",
    "})\n",
    "\n",
    "# Supress unneeded print function outputs\n",
    "with io.capture_output() as captured:\n",
    "    iris_profile = dp.Profiler(iris, options=profile_options)\n",
    "    iris_report = iris_profile.report()\n",
    "\n",
    "    breast_cancer_profile = dp.Profiler(breast_cancer, options=profile_options)\n",
    "    breast_cancer_report = breast_cancer_profile.report()"
   ]
  },
  {
   "cell_type": "code",
   "execution_count": 9,
   "metadata": {},
   "outputs": [
    {
     "name": "stdout",
     "output_type": "stream",
     "text": [
      "ROC AUC score of RandomForestClassifier on original Iris dataset: 1.0\n",
      "ROC AUC score of RandomForestClassifier on synthetic Iris dataset: 0.8744240087640313\n"
     ]
    }
   ],
   "source": [
    "# Accuracy test on Iris dataset (multiclass classification)\n",
    "\n",
    "X_train, X_test, y_train, y_test = train_test_split(iris.iloc[:, :-1], iris.iloc[:, -1], test_size=0.2, random_state=42)\n",
    "clf = RandomForestClassifier(random_state=111).fit(X_train, y_train)\n",
    "data_roc_auc = roc_auc_score(y_test, clf.predict_proba(X_test), multi_class=\"ovr\")\n",
    "print(f\"ROC AUC score of RandomForestClassifier on original Iris dataset: {data_roc_auc}\")\n",
    "\n",
    "synthetic_data = make_data_from_report(iris_report, seed=111)\n",
    "X_synthetic, y_synthetic = synthetic_data.iloc[:, :-1], synthetic_data.iloc[:, -1]\n",
    "synthetic_data_roc_auc = roc_auc_score(y_synthetic, clf.predict_proba(X_synthetic), multi_class=\"ovr\")\n",
    "print(f\"ROC AUC score of RandomForestClassifier on synthetic Iris dataset: {synthetic_data_roc_auc}\")"
   ]
  },
  {
   "cell_type": "code",
   "execution_count": 10,
   "metadata": {},
   "outputs": [
    {
     "name": "stdout",
     "output_type": "stream",
     "text": [
      "ROC AUC score of RandomForestClassifier on original Breast cancer dataset: 0.996069439895185\n",
      "ROC AUC score of RandomForestClassifier on synthetic Breast cancer dataset: 0.7642101621194148\n"
     ]
    }
   ],
   "source": [
    "# Accuracy test on Wisconsin breast cancer dataset (binary classification)\n",
    "\n",
    "X_train, X_test, y_train, y_test = train_test_split(breast_cancer.iloc[:, :-1], breast_cancer.iloc[:, -1], test_size=0.2, random_state=42)\n",
    "clf = RandomForestClassifier(random_state=111).fit(X_train, y_train)\n",
    "data_roc_auc = roc_auc_score(y_test, clf.predict_proba(X_test)[:, 1])\n",
    "print(f\"ROC AUC score of RandomForestClassifier on original Breast cancer dataset: {data_roc_auc}\")\n",
    "\n",
    "synthetic_data = make_data_from_report(breast_cancer_report, seed=42)\n",
    "X_synthetic, y_synthetic = synthetic_data.iloc[:, :-1], synthetic_data.iloc[:, -1]\n",
    "synthetic_data_roc_auc = roc_auc_score(y_synthetic, clf.predict_proba(X_synthetic)[:, 1])\n",
    "print(f\"ROC AUC score of RandomForestClassifier on synthetic Breast cancer dataset: {synthetic_data_roc_auc}\")"
   ]
  }
 ],
 "metadata": {
  "kernelspec": {
   "display_name": "Python 3.8.9 ('.venv': venv)",
   "language": "python",
   "name": "python3"
  },
  "language_info": {
   "codemirror_mode": {
    "name": "ipython",
    "version": 3
   },
   "file_extension": ".py",
   "mimetype": "text/x-python",
   "name": "python",
   "nbconvert_exporter": "python",
   "pygments_lexer": "ipython3",
   "version": "3.8.9"
  },
  "orig_nbformat": 4,
  "vscode": {
   "interpreter": {
    "hash": "eafe3d7a309c1fad10d7212641ddeb699c15404bbccde31b1ad4c0955ffdc556"
   }
  }
 },
 "nbformat": 4,
 "nbformat_minor": 2
}
