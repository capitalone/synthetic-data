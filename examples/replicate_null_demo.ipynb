{
 "cells": [
  {
   "cell_type": "markdown",
   "metadata": {},
   "source": [
    "##### Replicate null values in Synthetic Data Generation based on LDA classification\n",
    "Datasets may contain null values in columns that may or may not be null at random, i.e. values from other columns might influence whether a column value is null or not. `null_replication.py` replicates null values in generated synthetic data to mimic null values from original dataset report. Whether a column value should be null or not is determind by a Linear Discriminant Analysis based binary classifier."
   ]
  },
  {
   "cell_type": "code",
   "execution_count": null,
   "metadata": {},
   "outputs": [],
   "source": [
    "import dataprofiler as dp\n",
    "import numpy as np\n",
    "import pandas as pd\n",
    "from sklearn import datasets\n",
    "from sklearn.ensemble import RandomForestClassifier\n",
    "from sklearn.model_selection import train_test_split\n",
    "from sklearn.metrics import roc_auc_score\n",
    "from synthetic_data.synthetic_data import make_data_from_report"
   ]
  },
  {
   "cell_type": "code",
   "execution_count": null,
   "metadata": {},
   "outputs": [],
   "source": [
    "data = datasets.load_iris(as_frame=True).frame\n",
    "\n",
    "# Turn values in \"petal length (cm)\" column to null with a pattern\n",
    "sepal_length_mean = data[\"sepal length (cm)\"].mean()\n",
    "sepal_width_mean = data[\"sepal width (cm)\"].mean()\n",
    "data.loc[(data[\"sepal length (cm)\"] > sepal_length_mean) & (data[\"sepal width (cm)\"] > sepal_width_mean), \"petal length (cm)\"] = None\n",
    "\n",
    "data"
   ]
  },
  {
   "cell_type": "code",
   "execution_count": null,
   "metadata": {},
   "outputs": [],
   "source": [
    "profile_options = dp.ProfilerOptions()\n",
    "profile_options.set({\n",
    "    \"data_labeler.is_enabled\": False,\n",
    "    \"correlation.is_enabled\": True,\n",
    "    \"structured_options.multiprocess.is_enabled\": False,\n",
    "    \"null_replication_metrics.is_enabled\": True\n",
    "})\n",
    "\n",
    "profile = dp.Profiler(data, options=profile_options)\n",
    "report = profile.report()\n",
    "report"
   ]
  },
  {
   "cell_type": "code",
   "execution_count": null,
   "metadata": {},
   "outputs": [],
   "source": [
    "synthetic_data = make_data_from_report(report)\n",
    "synthetic_data"
   ]
  },
  {
   "cell_type": "code",
   "execution_count": null,
   "metadata": {},
   "outputs": [],
   "source": [
    "synthetic_data_profile = dp.Profiler(synthetic_data, options=profile_options)\n",
    "synthetic_data_report = synthetic_data_profile.report()\n",
    "synthetic_data_report"
   ]
  },
  {
   "cell_type": "code",
   "execution_count": null,
   "metadata": {},
   "outputs": [],
   "source": [
    "X = data.drop(columns=\"petal length (cm)\")\n",
    "y = data['petal length (cm)'].isnull()\n",
    "X_train, X_test, y_train, y_test = train_test_split(X, y, test_size=0.1, random_state=42)\n",
    "\n",
    "clf = RandomForestClassifier().fit(X_train, y_train)\n",
    "original_roc_auc = roc_auc_score(y_test, clf.predict_proba(X_test)[:, 1])\n",
    "print(f\"ROC AUC score of RandomForestClassifier on predicting null values in original dataset: {original_roc_auc}\")\n",
    "\n",
    "X_synthetic = synthetic_data.drop(columns=\"petal length (cm)\")\n",
    "y_synthetic = synthetic_data['petal length (cm)'].isnull()\n",
    "synthetic_roc_auc = roc_auc_score(y_synthetic, clf.predict_proba(X_synthetic)[:, 1])\n",
    "print(f\"ROC AUC score of RandomForestClassifier on predicting null values in synthetic dataset: {synthetic_roc_auc}\")"
   ]
  }
 ],
 "metadata": {
  "kernelspec": {
   "display_name": "Python 3.8.9 ('.venv': venv)",
   "language": "python",
   "name": "python3"
  },
  "language_info": {
   "codemirror_mode": {
    "name": "ipython",
    "version": 3
   },
   "file_extension": ".py",
   "mimetype": "text/x-python",
   "name": "python",
   "nbconvert_exporter": "python",
   "pygments_lexer": "ipython3",
   "version": "3.8.9"
  },
  "orig_nbformat": 4,
  "vscode": {
   "interpreter": {
    "hash": "eafe3d7a309c1fad10d7212641ddeb699c15404bbccde31b1ad4c0955ffdc556"
   }
  }
 },
 "nbformat": 4,
 "nbformat_minor": 2
}
